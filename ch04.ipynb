{
 "cells": [
  {
   "cell_type": "code",
   "execution_count": 69,
   "metadata": {
    "collapsed": true,
    "pycharm": {
     "is_executing": false,
     "name": "#%%\n"
    }
   },
   "outputs": [
    {
     "name": "stdout",
     "text": [
      "Wall time: 0 ns\n"
     ],
     "output_type": "stream"
    },
    {
     "data": {
      "text/plain": "array([1., 1., 1.])"
     },
     "metadata": {},
     "output_type": "execute_result",
     "execution_count": 69
    },
    {
     "data": {
      "text/plain": "<Figure size 432x288 with 2 Axes>",
      "image/png": "[encoded data removed]"
     },
     "metadata": {
      "needs_background": "light"
     },
     "output_type": "display_data"
    }
   ],
   "source": [
    "import numpy as np\n",
    "from numpy.random import randn\n",
    "data = {i : randn() for i in range(7)}\n",
    "#字典推导式\n",
    "data\n",
    "\n",
    "\n",
    "a = np.random.randn(100, 100)\n",
    "%time np.dot(a, a)\n",
    "\n",
    "\n",
    "data1 = [6, 7.5, 8, 0, 1]\n",
    "arr1 = np.array(data1)\n",
    "arr1\n",
    "data2 = [[1, 2, 3, 4], [5, 6, 7, 8]]\n",
    "arr2 = np.array(data2)\n",
    "arr2    #虽然和data2长得差不多，但arr2已经作为一个ndarray对象\n",
    "arr1.dtype\n",
    "\n",
    "\n",
    "np.ones((5,4))\n",
    "np.empty((3, 2, 2), dtype=np.float64)\n",
    "\n",
    "\n",
    "a = np.array([1, 2, 3, 4, 5, 6])\n",
    "a[2:4]\n",
    "\n",
    "\n",
    "data2d = [[1, 2, 3], [4, 5, 6], [7, 8, 9]]\n",
    "arr2d = np.array(data2d)\n",
    "arr2d[1,:2]\n",
    "\n",
    "\n",
    "#-------------索引与切片\n",
    "names = np.array(['Bob', 'Joe', 'Will', 'Joe', 'Joe','Bob', 'Bob'])\n",
    "data = randn(7, 4)\n",
    "data\n",
    "names\n",
    "names == 'Joe'\n",
    "data[names == 'Bob', 2:]\n",
    "mask = (names == 'Bob') | (names == 'Will')\n",
    "mask\n",
    "data[mask,1:]\n",
    "data[data < 0] = 99\n",
    "data\n",
    "\n",
    "\n",
    "#------------花式索引\n",
    "arr = np.empty((8,4))\n",
    "for i in range(8):\n",
    "    arr[i] = i\n",
    "arr\n",
    "arr[[4,3,0,2,6]]\n",
    "arr[[-5,-3,-1]]\n",
    "\n",
    "arr = np.arange(32).reshape((8,4))  #括号里乘积不是32会报错\n",
    "arr\n",
    "arr.T\n",
    "np.dot(arr.T, arr)\n",
    "\n",
    "\n",
    "#-------------------利用数组进行数据处理\n",
    "points = np.arange(-5,5,0.01)\n",
    "points\n",
    "#meshigrid（x，y）的作用是产生一个以向量x为行，向量y为列的矩阵\n",
    "#x中有几个元素，就会产生几行  ，同理y——列\n",
    "xs, ys =np.meshgrid(points, points)\n",
    "ys\n",
    "import matplotlib.pyplot as plt\n",
    "z = np.sqrt(xs**2 + ys**2)\n",
    "z\n",
    "plt.imshow(z, cmap=plt.cm.gray);plt.colorbar()\n",
    "\n",
    "\n",
    "#----------------将条件逻辑表述为数组运算\n",
    "xarr = np.arange(1.1,1.6,0.1)\n",
    "yarr = np.arange(2.1,2.6,0.1)\n",
    "cond = np.array([True,False,True,True,False])\n",
    "xarr[cond]\n",
    "result = np.where(cond,2,-2)\n",
    "result\n",
    "arr = np.arange(0,9).reshape(3,3)\n",
    "arr\n",
    "#-----------------0代表纵向，1代表横向\n",
    "arr.cumsum(0)\n",
    "arr.cumprod(1)\n",
    "\n",
    "\n",
    "#----------------------用布尔型数组方法\n",
    "arr = randn(100)\n",
    "(arr > 0).sum()   #--正数值的数量\n",
    "arr.any()  #--是否存在True\n",
    "arr.all()  #--是否不存在False\n",
    "\n",
    "\n",
    "#----------------------排序\n",
    "arr = randn(8)\n",
    "arr\n",
    "arr.sort()\n",
    "arr\n",
    "arr = np.arange(0,25)\n",
    "arr =arr.reshape(5,5)\n",
    "arr\n",
    "#---------同理0纵1横\n",
    "arr[2] =[1,2,6,54,97]\n",
    "arr.sort(1)\n",
    "arr.sort(0)\n",
    "#--------------可以证明，经0，1两次排序后，无论从哪个方向看都一定是有序的\n",
    "arr\n",
    "\n",
    "\n",
    "#--------------------唯一化及其他逻辑集合\n",
    "\n",
    "\n",
    "#--------------------数组以二进制形式保存至磁盘\n",
    "arr = np.arange(10)\n",
    "np.save('Some_array', arr)\n",
    "np.load('Some_array.npy')\n",
    "path = '../pydata/examples/array_ex.txt'\n",
    "arr = np.loadtxt(path, delimiter=',')\n",
    "arr\n",
    "\n",
    "\n",
    "#--------------------线性代数\n",
    "x =np.arange(6)\n",
    "x = x.reshape(2,3)\n",
    "y=np.arange(6)\n",
    "y = y.reshape(3,2)\n",
    "x.dot(y)\n",
    "np.ones(3)"
   ]
  }
 ],
 "metadata": {
  "kernelspec": {
   "display_name": "Python 3",
   "language": "python",
   "name": "python3"
  },
  "language_info": {
   "codemirror_mode": {
    "name": "ipython",
    "version": 2
   },
   "file_extension": ".py",
   "mimetype": "text/x-python",
   "name": "python",
   "nbconvert_exporter": "python",
   "pygments_lexer": "ipython2",
   "version": "2.7.6"
  },
  "pycharm": {
   "stem_cell": {
    "cell_type": "raw",
    "source": [],
    "metadata": {
     "collapsed": false
    }
   }
  }
 },
 "nbformat": 4,
 "nbformat_minor": 0
}