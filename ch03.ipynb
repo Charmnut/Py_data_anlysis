{
 "cells": [
  {
   "cell_type": "code",
   "execution_count": 44,
   "metadata": {
    "collapsed": true,
    "pycharm": {
     "is_executing": false,
     "name": "#%%\n"
    }
   },
   "outputs": [
    {
     "name": "stdout",
     "text": [
      "Wall time: 0 ns\n"
     ],
     "output_type": "stream"
    },
    {
     "data": {
      "text/plain": "array([[ 0,  1,  2,  3,  4,  5,  6,  7,  8,  9, 10, 11, 12, 13, 14, 15],\n       [16, 17, 18, 19, 20, 21, 22, 23, 24, 25, 26, 27, 28, 29, 30, 31]])"
     },
     "metadata": {},
     "output_type": "execute_result",
     "execution_count": 44
    }
   ],
   "source": [
    "import numpy as np\n",
    "from numpy.random import randn\n",
    "data = {i : randn() for i in range(7)}\n",
    "#字典推导式\n",
    "data\n",
    "\n",
    "\n",
    "a = np.random.randn(100, 100)\n",
    "%time np.dot(a, a)\n",
    "\n",
    "\n",
    "data1 = [6, 7.5, 8, 0, 1]\n",
    "arr1 = np.array(data1)\n",
    "arr1\n",
    "data2 = [[1, 2, 3, 4], [5, 6, 7, 8]]\n",
    "arr2 = np.array(data2)\n",
    "arr2    #虽然和data2长得差不多，但arr2已经作为一个ndarray对象\n",
    "arr1.dtype\n",
    "\n",
    "\n",
    "np.ones((5,4))\n",
    "np.empty((3, 2, 2), dtype=np.float64)\n",
    "\n",
    "\n",
    "a = np.array([1, 2, 3, 4, 5, 6])\n",
    "a[2:4]\n",
    "\n",
    "\n",
    "data2d = [[1, 2, 3], [4, 5, 6], [7, 8, 9]]\n",
    "arr2d = np.array(data2d)\n",
    "arr2d[1,:2]\n",
    "\n",
    "\n",
    "#-------------索引与切片\n",
    "names = np.array(['Bob', 'Joe', 'Will', 'Joe', 'Joe','Bob', 'Bob'])\n",
    "data = randn(7, 4)\n",
    "data\n",
    "names\n",
    "names == 'Joe'\n",
    "data[names == 'Bob', 2:]\n",
    "mask = (names == 'Bob') | (names == 'Will')\n",
    "mask\n",
    "data[mask,1:]\n",
    "data[data < 0] = 99\n",
    "data\n",
    "\n",
    "\n",
    "#------------花式索引\n",
    "arr = np.empty((8,4))\n",
    "for i in range(8):\n",
    "    arr[i] = i\n",
    "arr\n",
    "arr[[4,3,0,2,6]]\n",
    "arr[[-5,-3,-1]]\n",
    "\n",
    "arr = np.arange(32).reshape((2,16))  #括号里乘积不是32会报错\n",
    "arr"
   ]
  }
 ],
 "metadata": {
  "kernelspec": {
   "display_name": "Python 3",
   "language": "python",
   "name": "python3"
  },
  "language_info": {
   "codemirror_mode": {
    "name": "ipython",
    "version": 2
   },
   "file_extension": ".py",
   "mimetype": "text/x-python",
   "name": "python",
   "nbconvert_exporter": "python",
   "pygments_lexer": "ipython2",
   "version": "2.7.6"
  },
  "pycharm": {
   "stem_cell": {
    "cell_type": "raw",
    "source": [],
    "metadata": {
     "collapsed": false
    }
   }
  }
 },
 "nbformat": 4,
 "nbformat_minor": 0
}